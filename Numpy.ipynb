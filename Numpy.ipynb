{
  "nbformat": 4,
  "nbformat_minor": 0,
  "metadata": {
    "colab": {
      "name": "Numpy.ipynb",
      "provenance": []
    },
    "kernelspec": {
      "name": "python3",
      "display_name": "Python 3"
    }
  },
  "cells": [
    {
      "cell_type": "code",
      "metadata": {
        "id": "GsaA0oZfOT0R"
      },
      "source": [
        "import numpy as np"
      ],
      "execution_count": 1,
      "outputs": []
    },
    {
      "cell_type": "code",
      "metadata": {
        "colab": {
          "base_uri": "https://localhost:8080/"
        },
        "id": "8iOxWZ0oQU2q",
        "outputId": "bbe94f87-c331-45fd-8dc7-4e6b34e2f89d"
      },
      "source": [
        "a = np.array([\r\n",
        "              [1, 2, 3],\r\n",
        "              [4, 5 , 6]\r\n",
        "])\r\n",
        "print('a =\\n', a)\r\n",
        "b = np.array([\r\n",
        "              [2, 4, 6],\r\n",
        "              [3, 5, 7]\r\n",
        "])\r\n",
        "print('b =\\n', b)"
      ],
      "execution_count": 2,
      "outputs": [
        {
          "output_type": "stream",
          "text": [
            "a =\n",
            " [[1 2 3]\n",
            " [4 5 6]]\n",
            "b =\n",
            " [[2 4 6]\n",
            " [3 5 7]]\n"
          ],
          "name": "stdout"
        }
      ]
    },
    {
      "cell_type": "code",
      "metadata": {
        "colab": {
          "base_uri": "https://localhost:8080/"
        },
        "id": "ClFrJQRvRGjk",
        "outputId": "fa9a63de-63e5-41f1-ab6e-9e255f0d1add"
      },
      "source": [
        "c = a+b\r\n",
        "d = a-b\r\n",
        "e = a*b\r\n",
        "print('a+b =\\n ', c)\r\n",
        "print('a-b =\\n', d)\r\n",
        "print('a*b =\\n', e)"
      ],
      "execution_count": 15,
      "outputs": [
        {
          "output_type": "stream",
          "text": [
            "a+b =\n",
            "  [[ 3  6  9]\n",
            " [ 7 10 13]]\n",
            "a-b =\n",
            " [[-1 -2 -3]\n",
            " [ 1  0 -1]]\n",
            "a*b =\n",
            " [[ 2  8 18]\n",
            " [12 25 42]]\n"
          ],
          "name": "stdout"
        }
      ]
    },
    {
      "cell_type": "code",
      "metadata": {
        "id": "4q3_BefQR0WD"
      },
      "source": [
        "def chuyen_vi(mt):\r\n",
        "  f = print(mt.transpose())\r\n",
        "  return f"
      ],
      "execution_count": 8,
      "outputs": []
    },
    {
      "cell_type": "code",
      "metadata": {
        "colab": {
          "base_uri": "https://localhost:8080/"
        },
        "id": "s-SSUB2vScaj",
        "outputId": "9cb60d1a-7e1d-47eb-9216-3b1206115069"
      },
      "source": [
        "chuyen_vi(a)"
      ],
      "execution_count": 10,
      "outputs": [
        {
          "output_type": "stream",
          "text": [
            "[[1 4]\n",
            " [2 5]\n",
            " [3 6]]\n"
          ],
          "name": "stdout"
        }
      ]
    },
    {
      "cell_type": "code",
      "metadata": {
        "colab": {
          "base_uri": "https://localhost:8080/"
        },
        "id": "4vbqaU4hSkE6",
        "outputId": "1a703199-7cbb-4817-d1ba-447e6616cfd0"
      },
      "source": [
        "chuyen_vi(b)"
      ],
      "execution_count": 11,
      "outputs": [
        {
          "output_type": "stream",
          "text": [
            "[[2 3]\n",
            " [4 5]\n",
            " [6 7]]\n"
          ],
          "name": "stdout"
        }
      ]
    }
  ]
}